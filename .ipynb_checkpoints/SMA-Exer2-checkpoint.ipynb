{
 "cells": [
  {
   "cell_type": "code",
   "execution_count": 1,
   "metadata": {},
   "outputs": [],
   "source": [
    "import tweepy\n",
    "import io\n",
    "import json\n",
    "import pandas as pd\n",
    "import sys"
   ]
  },
  {
   "cell_type": "code",
   "execution_count": 2,
   "metadata": {},
   "outputs": [],
   "source": [
    "def saveJson(variable, filename):\n",
    "    with io.open(filename, \"w\", encoding=\"utf-8\") as f:\n",
    "        f.write(json.dumps(variable, indent=4, ensure_ascii=False))"
   ]
  },
  {
   "cell_type": "code",
   "execution_count": 3,
   "metadata": {},
   "outputs": [],
   "source": [
    "def createFilePath(tag, id_):\n",
    "    return tag + id_ + '.json'"
   ]
  },
  {
   "cell_type": "code",
   "execution_count": 4,
   "metadata": {},
   "outputs": [],
   "source": [
    "consumerKey = \"x\"\n",
    "consumerSecret = \"x\"\n",
    "accessToken = \"x\"\n",
    "accessTokenSecret = \"x\""
   ]
  },
  {
   "cell_type": "code",
   "execution_count": 5,
   "metadata": {},
   "outputs": [],
   "source": [
    "auth = tweepy.OAuthHandler(consumerKey, consumerSecret)\n",
    "auth.set_access_token(accessToken, accessTokenSecret)"
   ]
  },
  {
   "cell_type": "code",
   "execution_count": 6,
   "metadata": {},
   "outputs": [],
   "source": [
    "api = tweepy.API(auth, wait_on_rate_limit=True, wait_on_rate_limit_notify=True, compression=True)"
   ]
  },
  {
   "cell_type": "code",
   "execution_count": 16,
   "metadata": {},
   "outputs": [],
   "source": [
    "id_ = '@nike'"
   ]
  },
  {
   "cell_type": "code",
   "execution_count": 8,
   "metadata": {},
   "outputs": [],
   "source": [
    "ids_ = ['@nike', '@thomann', 'linuxfoundation']"
   ]
  },
  {
   "cell_type": "code",
   "execution_count": 17,
   "metadata": {},
   "outputs": [],
   "source": [
    "followersIds = []"
   ]
  },
  {
   "cell_type": "code",
   "execution_count": 18,
   "metadata": {},
   "outputs": [
    {
     "name": "stdout",
     "output_type": "stream",
     "text": [
      "5000\n",
      "10000\n",
      "15000\n"
     ]
    }
   ],
   "source": [
    "try:\n",
    "    c = tweepy.Cursor(api.followers_ids, id = id_)\n",
    "    for page in c.pages():\n",
    "        followersIds += page\n",
    "        print(len(followersIds))\n",
    "        if(len(followersIds) >= 15*10**3):\n",
    "            break\n",
    "except tweepy.TweepError:\n",
    "    print(\"tweepy.TweepError=\"+ tweepy.TweepError)\n",
    "except:\n",
    "    e = sys.exc_info()[0]\n",
    "    print(\"Error: %s\" % e)"
   ]
  },
  {
   "cell_type": "code",
   "execution_count": 19,
   "metadata": {},
   "outputs": [],
   "source": [
    "saveJson(followersIds, createFilePath('follower', id_))"
   ]
  },
  {
   "cell_type": "code",
   "execution_count": 20,
   "metadata": {},
   "outputs": [],
   "source": [
    "friendsIds = []"
   ]
  },
  {
   "cell_type": "code",
   "execution_count": 21,
   "metadata": {},
   "outputs": [
    {
     "name": "stdout",
     "output_type": "stream",
     "text": [
      "116\n"
     ]
    }
   ],
   "source": [
    "try:\n",
    "    c = tweepy.Cursor(api.friends_ids, id = id_, count=5000)\n",
    "    for page in c.pages():\n",
    "        friendsIds += page\n",
    "        print(len(friendsIds))\n",
    "except tweepy.TweepError:\n",
    "    print(\"tweepy.TweepError=\"+ tweepy.TweepError)\n",
    "except:\n",
    "    e = sys.exc_info()[0]\n",
    "    print(\"Error: %s\" % e)"
   ]
  },
  {
   "cell_type": "code",
   "execution_count": 22,
   "metadata": {},
   "outputs": [],
   "source": [
    "saveJson(friendsIds, createFilePath('friends', id_))"
   ]
  },
  {
   "cell_type": "code",
   "execution_count": 24,
   "metadata": {},
   "outputs": [],
   "source": [
    "df = pd.DataFrame(columns=['account', 'numberOfTweets'])\n",
    "for id_ in ids_:\n",
    "    tempDict = {'account': id_, 'numberOfTweets': api.get_user(id_).statuses_count}\n",
    "    df = df.append(tempDict, ignore_index=True)"
   ]
  },
  {
   "cell_type": "code",
   "execution_count": 27,
   "metadata": {},
   "outputs": [
    {
     "data": {
      "text/html": [
       "<div>\n",
       "<style scoped>\n",
       "    .dataframe tbody tr th:only-of-type {\n",
       "        vertical-align: middle;\n",
       "    }\n",
       "\n",
       "    .dataframe tbody tr th {\n",
       "        vertical-align: top;\n",
       "    }\n",
       "\n",
       "    .dataframe thead th {\n",
       "        text-align: right;\n",
       "    }\n",
       "</style>\n",
       "<table border=\"1\" class=\"dataframe\">\n",
       "  <thead>\n",
       "    <tr style=\"text-align: right;\">\n",
       "      <th></th>\n",
       "      <th>account</th>\n",
       "      <th>numberOfTweets</th>\n",
       "    </tr>\n",
       "  </thead>\n",
       "  <tbody>\n",
       "    <tr>\n",
       "      <th>0</th>\n",
       "      <td>@nike</td>\n",
       "      <td>36644</td>\n",
       "    </tr>\n",
       "    <tr>\n",
       "      <th>1</th>\n",
       "      <td>@thomann</td>\n",
       "      <td>12575</td>\n",
       "    </tr>\n",
       "    <tr>\n",
       "      <th>2</th>\n",
       "      <td>linuxfoundation</td>\n",
       "      <td>26547</td>\n",
       "    </tr>\n",
       "  </tbody>\n",
       "</table>\n",
       "</div>"
      ],
      "text/plain": [
       "           account numberOfTweets\n",
       "0            @nike          36644\n",
       "1         @thomann          12575\n",
       "2  linuxfoundation          26547"
      ]
     },
     "execution_count": 27,
     "metadata": {},
     "output_type": "execute_result"
    }
   ],
   "source": [
    "df"
   ]
  },
  {
   "cell_type": "code",
   "execution_count": 26,
   "metadata": {},
   "outputs": [],
   "source": [
    "df.to_json('nike_thomann_linuxfoundation_numberOfTweets.json')"
   ]
  },
  {
   "cell_type": "code",
   "execution_count": 7,
   "metadata": {},
   "outputs": [
    {
     "data": {
      "text/plain": [
       "12575"
      ]
     },
     "execution_count": 7,
     "metadata": {},
     "output_type": "execute_result"
    }
   ],
   "source": [
    "api.get_user(id_).statuses_count"
   ]
  },
  {
   "cell_type": "code",
   "execution_count": 47,
   "metadata": {},
   "outputs": [],
   "source": [
    "try:\n",
    "    searchedTweets = [status._json for status in tweepy.Cursor(api.search,  q=\"#LarkinPoe\", count=5000).items()]\n",
    "    jsonStrings = [json.dumps(jsonObject) for jsonObject in searchedTweets] \n",
    "except tweepy.TweepError:\n",
    "    print(\"tweepy.TweepError=\"+ tweepy.TweepError)\n",
    "except:\n",
    "    e = sys.exc_info()[0]\n",
    "    print(\"Error: %s\" % e)"
   ]
  },
  {
   "cell_type": "code",
   "execution_count": 48,
   "metadata": {},
   "outputs": [],
   "source": [
    "saveJson(jsonStrings, 'larkinpoe.json')"
   ]
  },
  {
   "cell_type": "code",
   "execution_count": 49,
   "metadata": {},
   "outputs": [
    {
     "name": "stdout",
     "output_type": "stream",
     "text": [
      "TweetsTotal: 34\n"
     ]
    }
   ],
   "source": [
    "print('TweetsTotal: %s' % len(jsonStrings))"
   ]
  },
  {
   "cell_type": "code",
   "execution_count": 88,
   "metadata": {},
   "outputs": [
    {
     "name": "stdout",
     "output_type": "stream",
     "text": [
      "Error: <class 'NameError'>\n"
     ]
    }
   ],
   "source": [
    "try:\n",
    "    searchedTweets = [status._json for status.id in tweepy.Cursor(api.user_timeline, id = id_, count=5000).items(1)]\n",
    "    jsonStrings = [json.dumps(jsonObject) for jsonObject in searchedTweets] \n",
    "except tweepy.TweepError:\n",
    "    print(\"tweepy.TweepError=\"+ tweepy.TweepError)\n",
    "except:\n",
    "    e = sys.exc_info()[0]\n",
    "    print(\"Error: %s\" % e)"
   ]
  },
  {
   "cell_type": "code",
   "execution_count": 50,
   "metadata": {},
   "outputs": [],
   "source": [
    "df = pd.DataFrame(columns=['account', 'name', 'numberOfFavorites', 'numberOfReplies', 'numberOfRetweets'])\n",
    "for id_ in ids_:\n",
    "    try:\n",
    "        for status in tweepy.Cursor(api.user_timeline, id = id_, count=5000).items(1):\n",
    "            record = status._json\n",
    "            tempDict = {'account': id_, 'name': record[\"user\"]['name'], 'numberOfFavorites': record[\"favorite_count\"], 'numberOfReplies': 'Note: This object is only available with the Premium and Enterprise tier products.', 'numberOfRetweets': record[\"retweet_count\"]}\n",
    "            df = df.append(tempDict,  ignore_index=True)\n",
    "    except tweepy.TweepError:\n",
    "        print(\"tweepy.TweepError=\"+ tweepy.TweepError)\n",
    "    except:\n",
    "        e = sys.exc_info()[0]\n",
    "        print(\"Error: %s\" % e)"
   ]
  },
  {
   "cell_type": "code",
   "execution_count": 54,
   "metadata": {},
   "outputs": [
    {
     "data": {
      "text/plain": [
       "'Note: This object is only available with the Premium and Enterprise tier products.'"
      ]
     },
     "execution_count": 54,
     "metadata": {},
     "output_type": "execute_result"
    }
   ],
   "source": [
    "df['numberOfReplies'][1]"
   ]
  },
  {
   "cell_type": "code",
   "execution_count": 30,
   "metadata": {},
   "outputs": [],
   "source": [
    "df.to_json('nike_thomann_linuxfoundation.json')"
   ]
  }
 ],
 "metadata": {
  "kernelspec": {
   "display_name": "Python 3",
   "language": "python",
   "name": "python3"
  },
  "language_info": {
   "codemirror_mode": {
    "name": "ipython",
    "version": 3
   },
   "file_extension": ".py",
   "mimetype": "text/x-python",
   "name": "python",
   "nbconvert_exporter": "python",
   "pygments_lexer": "ipython3",
   "version": "3.7.4"
  }
 },
 "nbformat": 4,
 "nbformat_minor": 4
}
